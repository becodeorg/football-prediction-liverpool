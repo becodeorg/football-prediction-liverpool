{
 "cells": [
  {
   "cell_type": "markdown",
   "id": "7eb9751a",
   "metadata": {},
   "source": [
    "# Gradient Boosting training"
   ]
  },
  {
   "cell_type": "code",
   "execution_count": 1,
   "id": "682a0e3c",
   "metadata": {},
   "outputs": [
    {
     "name": "stdout",
     "output_type": "stream",
     "text": [
      "📊 Dataset shape: (1386, 24)\n",
      "📅 Période: 2019-07-26 à 2024-08-10\n",
      "⚽ Distribution des résultats:\n",
      "Target\n",
      "H    0.435065\n",
      "A    0.326118\n",
      "D    0.238817\n",
      "Name: proportion, dtype: float64\n"
     ]
    },
    {
     "data": {
      "application/vnd.microsoft.datawrangler.viewer.v0+json": {
       "columns": [
        {
         "name": "index",
         "rawType": "int64",
         "type": "integer"
        },
        {
         "name": "Date",
         "rawType": "object",
         "type": "string"
        },
        {
         "name": "HomeTeam",
         "rawType": "object",
         "type": "string"
        },
        {
         "name": "AwayTeam",
         "rawType": "object",
         "type": "string"
        },
        {
         "name": "Target",
         "rawType": "object",
         "type": "string"
        },
        {
         "name": "home_avg_goals_scored",
         "rawType": "float64",
         "type": "float"
        },
        {
         "name": "home_avg_goals_conceded",
         "rawType": "float64",
         "type": "float"
        },
        {
         "name": "home_avg_shots",
         "rawType": "float64",
         "type": "float"
        },
        {
         "name": "home_avg_shots_target",
         "rawType": "float64",
         "type": "float"
        },
        {
         "name": "home_avg_corners",
         "rawType": "float64",
         "type": "float"
        },
        {
         "name": "home_win_rate",
         "rawType": "float64",
         "type": "float"
        },
        {
         "name": "home_form",
         "rawType": "float64",
         "type": "float"
        },
        {
         "name": "away_avg_goals_scored",
         "rawType": "float64",
         "type": "float"
        },
        {
         "name": "away_avg_goals_conceded",
         "rawType": "float64",
         "type": "float"
        },
        {
         "name": "away_avg_shots",
         "rawType": "float64",
         "type": "float"
        },
        {
         "name": "away_avg_shots_target",
         "rawType": "float64",
         "type": "float"
        },
        {
         "name": "away_avg_corners",
         "rawType": "float64",
         "type": "float"
        },
        {
         "name": "away_win_rate",
         "rawType": "float64",
         "type": "float"
        },
        {
         "name": "away_form",
         "rawType": "float64",
         "type": "float"
        },
        {
         "name": "form_difference",
         "rawType": "float64",
         "type": "float"
        },
        {
         "name": "goal_difference",
         "rawType": "float64",
         "type": "float"
        },
        {
         "name": "home_shot_efficiency",
         "rawType": "float64",
         "type": "float"
        },
        {
         "name": "away_shot_efficiency",
         "rawType": "float64",
         "type": "float"
        },
        {
         "name": "home_advantage",
         "rawType": "float64",
         "type": "float"
        },
        {
         "name": "Target_encoded",
         "rawType": "int64",
         "type": "integer"
        }
       ],
       "ref": "42ee08fa-6bd8-44d2-908d-62c0e4a25117",
       "rows": [
        [
         "0",
         "2019-07-26",
         "Genk",
         "Kortrijk",
         "H",
         "1.8",
         "1.6",
         "15.8",
         "5.6",
         "5.6",
         "0.6",
         "2.0",
         "1.0",
         "1.4",
         "12.2",
         "4.2",
         "7.8",
         "0.4",
         "1.4",
         "0.6000000000000001",
         "0.5999999999999999",
         "0.3333333333333333",
         "0.3181818181818182",
         "0.1999999999999999",
         "0"
        ],
        [
         "1",
         "2019-07-27",
         "Cercle Brugge",
         "Standard",
         "A",
         "1.2",
         "2.0",
         "15.8",
         "5.2",
         "7.6",
         "0.2",
         "0.8",
         "0.4",
         "0.6",
         "9.8",
         "1.8",
         "2.8",
         "0.4",
         "1.4",
         "-0.5999999999999999",
         "-0.6000000000000001",
         "0.3095238095238095",
         "0.1666666666666666",
         "-0.2",
         "2"
        ],
        [
         "2",
         "2019-07-27",
         "St Truiden",
         "Mouscron",
         "A",
         "1.2",
         "2.8",
         "8.6",
         "3.2",
         "3.4",
         "0.0",
         "0.6",
         "1.2",
         "1.8",
         "13.6",
         "3.8",
         "5.2",
         "0.2",
         "0.8",
         "-0.2",
         "-0.9999999999999998",
         "0.3333333333333333",
         "0.2602739726027397",
         "-0.2",
         "2"
        ],
        [
         "3",
         "2019-07-27",
         "Waregem",
         "Mechelen",
         "A",
         "2.2",
         "2.2",
         "10.2",
         "5.0",
         "4.4",
         "0.2",
         "0.8",
         "1.8",
         "1.8",
         "13.4",
         "5.2",
         "4.4",
         "0.4",
         "1.4",
         "-0.5999999999999999",
         "0.0",
         "0.4464285714285714",
         "0.3611111111111111",
         "-0.2",
         "2"
        ],
        [
         "4",
         "2019-07-27",
         "Waasland-Beveren",
         "Club Brugge",
         "A",
         "2.0",
         "2.2",
         "13.8",
         "6.6",
         "5.0",
         "0.4",
         "1.2",
         "1.6",
         "1.0",
         "16.2",
         "6.4",
         "5.2",
         "0.6",
         "1.8",
         "-0.6000000000000001",
         "-0.8000000000000003",
         "0.4459459459459459",
         "0.372093023255814",
         "-0.1999999999999999",
         "2"
        ]
       ],
       "shape": {
        "columns": 24,
        "rows": 5
       }
      },
      "text/html": [
       "<div>\n",
       "<style scoped>\n",
       "    .dataframe tbody tr th:only-of-type {\n",
       "        vertical-align: middle;\n",
       "    }\n",
       "\n",
       "    .dataframe tbody tr th {\n",
       "        vertical-align: top;\n",
       "    }\n",
       "\n",
       "    .dataframe thead th {\n",
       "        text-align: right;\n",
       "    }\n",
       "</style>\n",
       "<table border=\"1\" class=\"dataframe\">\n",
       "  <thead>\n",
       "    <tr style=\"text-align: right;\">\n",
       "      <th></th>\n",
       "      <th>Date</th>\n",
       "      <th>HomeTeam</th>\n",
       "      <th>AwayTeam</th>\n",
       "      <th>Target</th>\n",
       "      <th>home_avg_goals_scored</th>\n",
       "      <th>home_avg_goals_conceded</th>\n",
       "      <th>home_avg_shots</th>\n",
       "      <th>home_avg_shots_target</th>\n",
       "      <th>home_avg_corners</th>\n",
       "      <th>home_win_rate</th>\n",
       "      <th>...</th>\n",
       "      <th>away_avg_shots_target</th>\n",
       "      <th>away_avg_corners</th>\n",
       "      <th>away_win_rate</th>\n",
       "      <th>away_form</th>\n",
       "      <th>form_difference</th>\n",
       "      <th>goal_difference</th>\n",
       "      <th>home_shot_efficiency</th>\n",
       "      <th>away_shot_efficiency</th>\n",
       "      <th>home_advantage</th>\n",
       "      <th>Target_encoded</th>\n",
       "    </tr>\n",
       "  </thead>\n",
       "  <tbody>\n",
       "    <tr>\n",
       "      <th>0</th>\n",
       "      <td>2019-07-26</td>\n",
       "      <td>Genk</td>\n",
       "      <td>Kortrijk</td>\n",
       "      <td>H</td>\n",
       "      <td>1.8</td>\n",
       "      <td>1.6</td>\n",
       "      <td>15.8</td>\n",
       "      <td>5.6</td>\n",
       "      <td>5.6</td>\n",
       "      <td>0.6</td>\n",
       "      <td>...</td>\n",
       "      <td>4.2</td>\n",
       "      <td>7.8</td>\n",
       "      <td>0.4</td>\n",
       "      <td>1.4</td>\n",
       "      <td>0.6</td>\n",
       "      <td>0.6</td>\n",
       "      <td>0.333333</td>\n",
       "      <td>0.318182</td>\n",
       "      <td>0.2</td>\n",
       "      <td>0</td>\n",
       "    </tr>\n",
       "    <tr>\n",
       "      <th>1</th>\n",
       "      <td>2019-07-27</td>\n",
       "      <td>Cercle Brugge</td>\n",
       "      <td>Standard</td>\n",
       "      <td>A</td>\n",
       "      <td>1.2</td>\n",
       "      <td>2.0</td>\n",
       "      <td>15.8</td>\n",
       "      <td>5.2</td>\n",
       "      <td>7.6</td>\n",
       "      <td>0.2</td>\n",
       "      <td>...</td>\n",
       "      <td>1.8</td>\n",
       "      <td>2.8</td>\n",
       "      <td>0.4</td>\n",
       "      <td>1.4</td>\n",
       "      <td>-0.6</td>\n",
       "      <td>-0.6</td>\n",
       "      <td>0.309524</td>\n",
       "      <td>0.166667</td>\n",
       "      <td>-0.2</td>\n",
       "      <td>2</td>\n",
       "    </tr>\n",
       "    <tr>\n",
       "      <th>2</th>\n",
       "      <td>2019-07-27</td>\n",
       "      <td>St Truiden</td>\n",
       "      <td>Mouscron</td>\n",
       "      <td>A</td>\n",
       "      <td>1.2</td>\n",
       "      <td>2.8</td>\n",
       "      <td>8.6</td>\n",
       "      <td>3.2</td>\n",
       "      <td>3.4</td>\n",
       "      <td>0.0</td>\n",
       "      <td>...</td>\n",
       "      <td>3.8</td>\n",
       "      <td>5.2</td>\n",
       "      <td>0.2</td>\n",
       "      <td>0.8</td>\n",
       "      <td>-0.2</td>\n",
       "      <td>-1.0</td>\n",
       "      <td>0.333333</td>\n",
       "      <td>0.260274</td>\n",
       "      <td>-0.2</td>\n",
       "      <td>2</td>\n",
       "    </tr>\n",
       "    <tr>\n",
       "      <th>3</th>\n",
       "      <td>2019-07-27</td>\n",
       "      <td>Waregem</td>\n",
       "      <td>Mechelen</td>\n",
       "      <td>A</td>\n",
       "      <td>2.2</td>\n",
       "      <td>2.2</td>\n",
       "      <td>10.2</td>\n",
       "      <td>5.0</td>\n",
       "      <td>4.4</td>\n",
       "      <td>0.2</td>\n",
       "      <td>...</td>\n",
       "      <td>5.2</td>\n",
       "      <td>4.4</td>\n",
       "      <td>0.4</td>\n",
       "      <td>1.4</td>\n",
       "      <td>-0.6</td>\n",
       "      <td>0.0</td>\n",
       "      <td>0.446429</td>\n",
       "      <td>0.361111</td>\n",
       "      <td>-0.2</td>\n",
       "      <td>2</td>\n",
       "    </tr>\n",
       "    <tr>\n",
       "      <th>4</th>\n",
       "      <td>2019-07-27</td>\n",
       "      <td>Waasland-Beveren</td>\n",
       "      <td>Club Brugge</td>\n",
       "      <td>A</td>\n",
       "      <td>2.0</td>\n",
       "      <td>2.2</td>\n",
       "      <td>13.8</td>\n",
       "      <td>6.6</td>\n",
       "      <td>5.0</td>\n",
       "      <td>0.4</td>\n",
       "      <td>...</td>\n",
       "      <td>6.4</td>\n",
       "      <td>5.2</td>\n",
       "      <td>0.6</td>\n",
       "      <td>1.8</td>\n",
       "      <td>-0.6</td>\n",
       "      <td>-0.8</td>\n",
       "      <td>0.445946</td>\n",
       "      <td>0.372093</td>\n",
       "      <td>-0.2</td>\n",
       "      <td>2</td>\n",
       "    </tr>\n",
       "  </tbody>\n",
       "</table>\n",
       "<p>5 rows × 24 columns</p>\n",
       "</div>"
      ],
      "text/plain": [
       "         Date          HomeTeam     AwayTeam Target  home_avg_goals_scored  \\\n",
       "0  2019-07-26              Genk     Kortrijk      H                    1.8   \n",
       "1  2019-07-27     Cercle Brugge     Standard      A                    1.2   \n",
       "2  2019-07-27        St Truiden     Mouscron      A                    1.2   \n",
       "3  2019-07-27           Waregem     Mechelen      A                    2.2   \n",
       "4  2019-07-27  Waasland-Beveren  Club Brugge      A                    2.0   \n",
       "\n",
       "   home_avg_goals_conceded  home_avg_shots  home_avg_shots_target  \\\n",
       "0                      1.6            15.8                    5.6   \n",
       "1                      2.0            15.8                    5.2   \n",
       "2                      2.8             8.6                    3.2   \n",
       "3                      2.2            10.2                    5.0   \n",
       "4                      2.2            13.8                    6.6   \n",
       "\n",
       "   home_avg_corners  home_win_rate  ...  away_avg_shots_target  \\\n",
       "0               5.6            0.6  ...                    4.2   \n",
       "1               7.6            0.2  ...                    1.8   \n",
       "2               3.4            0.0  ...                    3.8   \n",
       "3               4.4            0.2  ...                    5.2   \n",
       "4               5.0            0.4  ...                    6.4   \n",
       "\n",
       "   away_avg_corners  away_win_rate  away_form  form_difference  \\\n",
       "0               7.8            0.4        1.4              0.6   \n",
       "1               2.8            0.4        1.4             -0.6   \n",
       "2               5.2            0.2        0.8             -0.2   \n",
       "3               4.4            0.4        1.4             -0.6   \n",
       "4               5.2            0.6        1.8             -0.6   \n",
       "\n",
       "   goal_difference  home_shot_efficiency  away_shot_efficiency  \\\n",
       "0              0.6              0.333333              0.318182   \n",
       "1             -0.6              0.309524              0.166667   \n",
       "2             -1.0              0.333333              0.260274   \n",
       "3              0.0              0.446429              0.361111   \n",
       "4             -0.8              0.445946              0.372093   \n",
       "\n",
       "   home_advantage  Target_encoded  \n",
       "0             0.2               0  \n",
       "1            -0.2               2  \n",
       "2            -0.2               2  \n",
       "3            -0.2               2  \n",
       "4            -0.2               2  \n",
       "\n",
       "[5 rows x 24 columns]"
      ]
     },
     "execution_count": 1,
     "metadata": {},
     "output_type": "execute_result"
    }
   ],
   "source": [
    "import pandas as pd\n",
    "import numpy as np\n",
    "from sklearn.model_selection import TimeSeriesSplit, cross_val_score\n",
    "from sklearn.ensemble import RandomForestClassifier, GradientBoostingClassifier\n",
    "from sklearn.metrics import classification_report, confusion_matrix, brier_score_loss\n",
    "from sklearn.preprocessing import StandardScaler\n",
    "import matplotlib.pyplot as plt\n",
    "import seaborn as sns\n",
    "\n",
    "from pathlib import Path\n",
    "\n",
    "dataset_path = Path(\"../data/processed/dataset_final.csv\")\n",
    "if not dataset_path.exists():\n",
    "\traise FileNotFoundError(f\"Le fichier {dataset_path} est introuvable. Vérifiez le chemin ou générez le dataset avant de continuer.\")\n",
    "\n",
    "# Charger le dataset final\n",
    "df = pd.read_csv(dataset_path)\n",
    "\n",
    "print(f\"📊 Dataset shape: {df.shape}\")\n",
    "print(f\"📅 Période: {df['Date'].min()} à {df['Date'].max()}\")\n",
    "print(f\"⚽ Distribution des résultats:\")\n",
    "print(df['Target'].value_counts(normalize=True))\n",
    "\n",
    "df.head()"
   ]
  },
  {
   "cell_type": "markdown",
   "id": "bc9ddd13",
   "metadata": {},
   "source": [
    "## Division temporel du dataset"
   ]
  },
  {
   "cell_type": "code",
   "execution_count": 2,
   "id": "88573a89",
   "metadata": {},
   "outputs": [
    {
     "name": "stdout",
     "output_type": "stream",
     "text": [
      "📈 Train: 1109 matchs (jusqu'au 2023-08-27)\n",
      "📊 Test: 277 matchs (à partir du 2023-08-27)\n",
      "🎯 Features utilisées: 19\n",
      "📊 Shape train: (1109, 19)\n",
      "📊 Shape test: (277, 19)\n"
     ]
    }
   ],
   "source": [
    "# Convertir la date et trier\n",
    "df['Date'] = pd.to_datetime(df['Date'])\n",
    "df = df.sort_values('Date')\n",
    "\n",
    "# Division temporelle : 80% train, 20% test\n",
    "split_date = df['Date'].quantile(0.8)\n",
    "train_data = df[df['Date'] <= split_date]\n",
    "test_data = df[df['Date'] > split_date]\n",
    "\n",
    "print(f\"📈 Train: {len(train_data)} matchs (jusqu'au {split_date.date()})\")\n",
    "print(f\"📊 Test: {len(test_data)} matchs (à partir du {split_date.date()})\")\n",
    "\n",
    "# Préparation des features et target\n",
    "feature_cols = [col for col in df.columns if col not in ['Date', 'HomeTeam', 'AwayTeam', 'Target', 'Target_encoded']]\n",
    "\n",
    "X_train = train_data[feature_cols]\n",
    "y_train = train_data['Target_encoded']\n",
    "X_test = test_data[feature_cols]\n",
    "y_test = test_data['Target_encoded']\n",
    "\n",
    "print(f\"🎯 Features utilisées: {len(feature_cols)}\")\n",
    "print(f\"📊 Shape train: {X_train.shape}\")\n",
    "print(f\"📊 Shape test: {X_test.shape}\")"
   ]
  },
  {
   "cell_type": "markdown",
   "id": "6eab3e6d",
   "metadata": {},
   "source": [
    "## Entrainement et évaluation du modèle"
   ]
  },
  {
   "cell_type": "code",
   "execution_count": 3,
   "id": "79621f09",
   "metadata": {},
   "outputs": [],
   "source": [
    "# Normalisation des features\n",
    "scaler = StandardScaler()\n",
    "X_train_scaled = scaler.fit_transform(X_train)\n",
    "X_test_scaled = scaler.transform(X_test)"
   ]
  },
  {
   "cell_type": "code",
   "execution_count": 4,
   "id": "39edadbf",
   "metadata": {},
   "outputs": [
    {
     "name": "stdout",
     "output_type": "stream",
     "text": [
      "🎯 Accuracy: 51.986 %\n",
      "\n",
      "📊 Classification Report:\n",
      "              precision    recall  f1-score   support\n",
      "\n",
      "        Home       0.55      0.73      0.63       125\n",
      "        Draw       0.35      0.09      0.15        74\n",
      "        Away       0.50      0.59      0.54        78\n",
      "\n",
      "    accuracy                           0.52       277\n",
      "   macro avg       0.47      0.47      0.44       277\n",
      "weighted avg       0.48      0.52      0.48       277\n",
      "\n"
     ]
    },
    {
     "data": {
      "image/png": "[encoded data removed]",
      "text/plain": [
       "<Figure size 800x600 with 2 Axes>"
      ]
     },
     "metadata": {},
     "output_type": "display_data"
    },
    {
     "name": "stdout",
     "output_type": "stream",
     "text": [
      "📊 Probabilités prédites:\n",
      "       Home      Draw      Away\n",
      "0  0.531342  0.211043  0.257615\n",
      "1  0.484962  0.229288  0.285749\n",
      "2  0.495102  0.273388  0.231510\n",
      "3  0.254603  0.241035  0.504362\n",
      "4  0.300141  0.300087  0.399772\n"
     ]
    }
   ],
   "source": [
    "# Entraînement Gradient Boosting\n",
    "gb_model = GradientBoostingClassifier(\n",
    "    n_estimators=100,\n",
    "    max_depth=3,\n",
    "    random_state=42,\n",
    "    min_samples_split = 5,\n",
    "    learning_rate=0.05,\n",
    ")\n",
    "\n",
    "gb_model.fit(X_train_scaled, y_train)\n",
    "\n",
    "# Prédictions\n",
    "y_pred = gb_model.predict(X_test_scaled)\n",
    "y_pred_proba = gb_model.predict_proba(X_test_scaled)\n",
    "\n",
    "# Évaluation\n",
    "from sklearn.metrics import accuracy_score, classification_report\n",
    "accuracy = (accuracy_score(y_test, y_pred)) * 100\n",
    "\n",
    "print(f\"🎯 Accuracy: {accuracy:.3f} %\")\n",
    "print(\"\\n📊 Classification Report:\")\n",
    "print(classification_report(y_test, y_pred, target_names=['Home', 'Draw', 'Away']))\n",
    "\n",
    "# Matrice de confusion\n",
    "plt.figure(figsize=(8, 6))\n",
    "cm = confusion_matrix(y_test, y_pred)\n",
    "sns.heatmap(cm, annot=True, fmt='d', cmap='Blues', \n",
    "            xticklabels=['Home', 'Draw', 'Away'],\n",
    "            yticklabels=['Home', 'Draw', 'Away'])\n",
    "plt.title('Matrice de Confusion')\n",
    "plt.ylabel('Réel')\n",
    "plt.xlabel('Prédit')\n",
    "plt.show()\n",
    "\n",
    "# Probabilités prédites\n",
    "y_pred_proba = pd.DataFrame(y_pred_proba, columns=['Home', 'Draw', 'Away'])\n",
    "print(\"📊 Probabilités prédites:\")\n",
    "print(y_pred_proba.head())\n"
   ]
  },
  {
   "cell_type": "markdown",
   "id": "6dd8ea42",
   "metadata": {},
   "source": [
    "## Brier score"
   ]
  },
  {
   "cell_type": "code",
   "execution_count": 6,
   "id": "8f1a810c",
   "metadata": {},
   "outputs": [
    {
     "name": "stdout",
     "output_type": "stream",
     "text": [
      "📉 Brier Score Home: 0.2422\n",
      "📉 Brier Score Draw: 0.2051\n",
      "📉 Brier Score Away: 0.1803\n"
     ]
    }
   ],
   "source": [
    "# Brier Score pour chaque classe\n",
    "for i, class_name in enumerate(['Home', 'Draw', 'Away']):\n",
    "    y_binary = (y_test == i).astype(int)\n",
    "    brier_class = brier_score_loss(y_binary, y_pred_proba.iloc[:, i])\n",
    "    print(f\"📉 Brier Score {class_name}: {brier_class:.4f}\")\n",
    "\n",
    "\n"
   ]
  },
  {
   "cell_type": "markdown",
   "id": "632912b0",
   "metadata": {},
   "source": [
    "## Save model"
   ]
  },
  {
   "cell_type": "code",
   "execution_count": 9,
   "id": "986076b2",
   "metadata": {},
   "outputs": [
    {
     "name": "stdout",
     "output_type": "stream",
     "text": [
      "💾 Modèle sauvegardé à ..\\models\\gb_model.pkl\n"
     ]
    }
   ],
   "source": [
    "import joblib\n",
    "\n",
    "# Sauvegarder le modèle\n",
    "model_path = Path(\"../models/gb_model.pkl\")\n",
    "joblib.dump(gb_model, model_path)\n",
    "print(f\"💾 Modèle sauvegardé à {model_path}\")"
   ]
  }
 ],
 "metadata": {
  "kernelspec": {
   "display_name": ".venv (3.11.7)",
   "language": "python",
   "name": "python3"
  },
  "language_info": {
   "codemirror_mode": {
    "name": "ipython",
    "version": 3
   },
   "file_extension": ".py",
   "mimetype": "text/x-python",
   "name": "python",
   "nbconvert_exporter": "python",
   "pygments_lexer": "ipython3",
   "version": "3.11.7"
  }
 },
 "nbformat": 4,
 "nbformat_minor": 5
}
